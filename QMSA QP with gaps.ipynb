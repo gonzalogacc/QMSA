{
 "cells": [
  {
   "cell_type": "code",
   "execution_count": 51,
   "metadata": {
    "collapsed": false
   },
   "outputs": [],
   "source": [
    "%matplotlib inline"
   ]
  },
  {
   "cell_type": "code",
   "execution_count": 52,
   "metadata": {
    "collapsed": false
   },
   "outputs": [],
   "source": [
    "import numpy as np\n",
    "from scipy import optimize\n",
    "import matplotlib"
   ]
  },
  {
   "cell_type": "markdown",
   "metadata": {},
   "source": [
    "The $Q$ matrix is written in the following format:\n",
    "\n",
    "$X_{i,L_k} , X_{i,L_k-1} , X_{i,L_k-2} , ... , X_{i, 1} , G_{i,L_k} , G_{i,L_k-1} , G_{i,L_k-2} , ... , G_{i, 1}$"
   ]
  },
  {
   "cell_type": "code",
   "execution_count": 119,
   "metadata": {
    "collapsed": false
   },
   "outputs": [
    {
     "name": "stdout",
     "output_type": "stream",
     "text": [
      "Q matrix dimension:  12\n"
     ]
    }
   ],
   "source": [
    "# Problem arguments\n",
    "L = [3,3]\n",
    "N = 2\n",
    "m = 0\n",
    "for k in L:\n",
    "    m += k*2\n",
    "print \"Q matrix dimension: \", m"
   ]
  },
  {
   "cell_type": "code",
   "execution_count": 99,
   "metadata": {
    "collapsed": false
   },
   "outputs": [],
   "source": [
    "# Build the hessian matrix\n",
    "\n",
    "Q = np.zeros((m, m))\n",
    "off = 0\n",
    "for o in xrange(N):\n",
    "    off = o*L[o-1]*2\n",
    "    for i in xrange(L[o]):\n",
    "        # Insert elements in the diagonal\n",
    "        if i == 0:\n",
    "            Q[i+off][i+off] = 1.\n",
    "            Q[i+off][i+off+1] = -2.\n",
    "            Q[i+off+1][i+off] = -2.\n",
    "            Q[i+off][i+off+L[o]] = -2.                \n",
    "            Q[L[o]+i+off][i+off] = -2.\n",
    "\n",
    "            Q[L[o]+i+off][L[o]+i+off] = 1. + 1.\n",
    "        elif i == L[o]-1:\n",
    "            Q[i+off][i+off] = L[o]\n",
    "\n",
    "            Q[i+off][i+off+L[o]-1] = 2.\n",
    "            Q[i+off+L[o]-1][i+off] = 2.\n",
    "\n",
    "            Q[i+off][i+off+L[o]] = -2. * (L[o]-1)\n",
    "            Q[i+off+L[o]][i+off] = -2. * (L[o]-1)\n",
    "\n",
    "            Q[L[o]+i+off][L[o]+i+off] = L[o]-1 + 1\n",
    "        else:\n",
    "            Q[i+off][i+off]   =  2.\n",
    "            Q[i+off][i+off+1] = -2.\n",
    "            Q[i+off+1][i+off] = -2.\n",
    "\n",
    "            Q[i+off][i+off+L[o]-1] = 2\n",
    "            Q[i+off][i+off+L[o]] = -2.\n",
    "\n",
    "            Q[i+off+L[o]-1][i+off] = 2.\n",
    "            Q[i+off+L[o]][i+off] = -2.\n",
    "\n",
    "            Q[L[o]+i+off][L[o]+i+off]=1+1"
   ]
  },
  {
   "cell_type": "code",
   "execution_count": 100,
   "metadata": {
    "collapsed": false
   },
   "outputs": [],
   "source": [
    "# Build the constants array\n",
    "C = np.zeros(m)\n",
    "off = 0\n",
    "for o in L:\n",
    "    for j in xrange(o*2):\n",
    "        if j == 0:\n",
    "            C[j+off] = -2.\n",
    "        if j == o - 1:\n",
    "            C[j+off] = 2.\n",
    "        if j > o-1 and j < 2*o-1:\n",
    "            C[j+off] = 2.\n",
    "    off += o*2"
   ]
  },
  {
   "cell_type": "code",
   "execution_count": 101,
   "metadata": {
    "collapsed": false
   },
   "outputs": [],
   "source": [
    "C0 = 0\n",
    "for k in L:\n",
    "    C0 += k"
   ]
  },
  {
   "cell_type": "code",
   "execution_count": 102,
   "metadata": {
    "collapsed": false
   },
   "outputs": [
    {
     "name": "stdout",
     "output_type": "stream",
     "text": [
      "H = \n",
      "[[ 1. -2.  0. -2.  0.  0.  0.  0.  0.  0.  0.  0.]\n",
      " [-2.  2. -2.  2. -2.  0.  0.  0.  0.  0.  0.  0.]\n",
      " [ 0. -2.  3.  0.  2. -4.  0.  0.  0.  0.  0.  0.]\n",
      " [-2.  2.  0.  2.  0.  0.  0.  0.  0.  0.  0.  0.]\n",
      " [ 0. -2.  2.  0.  2.  0.  0.  0.  0.  0.  0.  0.]\n",
      " [ 0.  0. -4.  0.  0.  3.  0.  0.  0.  0.  0.  0.]\n",
      " [ 0.  0.  0.  0.  0.  0.  1. -2.  0. -2.  0.  0.]\n",
      " [ 0.  0.  0.  0.  0.  0. -2.  2. -2.  2. -2.  0.]\n",
      " [ 0.  0.  0.  0.  0.  0.  0. -2.  3.  0.  2. -4.]\n",
      " [ 0.  0.  0.  0.  0.  0. -2.  2.  0.  2.  0.  0.]\n",
      " [ 0.  0.  0.  0.  0.  0.  0. -2.  2.  0.  2.  0.]\n",
      " [ 0.  0.  0.  0.  0.  0.  0.  0. -4.  0.  0.  3.]]\n",
      "C = \n",
      "[-2.  0.  2.  2.  2.  0. -2.  0.  2.  2.  2.  0.]\n",
      "C0 = \n",
      "6\n"
     ]
    }
   ],
   "source": [
    "print \"Q = \\n\", Q\n",
    "print \"C = \\n\", C\n",
    "print \"C0 = \\n\", C0"
   ]
  },
  {
   "cell_type": "code",
   "execution_count": 115,
   "metadata": {
    "collapsed": false
   },
   "outputs": [],
   "source": [
    "# Start the optimisation at a random point\n",
    "x0 = [0, 1, 2, 0, 0, 0, 0, 1, 2, 0, 0, 0]\n",
    "\n",
    "def loss(x, sign=1.):\n",
    "    return sign * (0.5 * np.dot(x.T, np.dot(Q, x)) + np.dot(C, x) + C0 )\n",
    "\n",
    "def jac(x, sign=1.):\n",
    "    return sign * (np.dot(x.T,Q) + C)\n",
    "\n",
    "opt = {'disp': True, 'maxiter': 10000}"
   ]
  },
  {
   "cell_type": "code",
   "execution_count": 117,
   "metadata": {
    "collapsed": false
   },
   "outputs": [
    {
     "name": "stdout",
     "output_type": "stream",
     "text": [
      "Warning: Desired error not necessarily achieved due to precision loss.\n",
      "         Current function value: -7071439762914200346119883824373131731925676519678867182273763322423218866574875890550238494374523400924463579587862587750807851635108065821063143576360528691699945058722343890755039920776916724170603626165018592565809970178474485772650976770642852641489156687278407260830972271459648271489206627755622400.000000\n",
      "         Iterations: 117\n",
      "         Function evaluations: 920\n",
      "         Gradient evaluations: 1340\n",
      "         Hessian evaluations: 0\n"
     ]
    }
   ],
   "source": [
    "res_uncons = optimize.minimize(loss, x0, method='Newton-CG',\n",
    "                              jac=jac, options=opt)"
   ]
  },
  {
   "cell_type": "code",
   "execution_count": 120,
   "metadata": {
    "collapsed": false
   },
   "outputs": [
    {
     "name": "stdout",
     "output_type": "stream",
     "text": [
      "\n",
      "Unconstrained:\n",
      "     fun: -7.0714397629142003e+303\n",
      "     jac: array([ -3.12027146e+151,  -4.47628375e+151,  -9.12996054e+151,\n",
      "         1.74251218e+151,   4.39338680e+150,  -5.18447251e+151,\n",
      "        -3.12027146e+151,  -4.47628375e+151,  -9.12996054e+151,\n",
      "         1.74251218e+151,   4.39338680e+150,  -5.18447251e+151])\n",
      " message: 'Desired error not necessarily achieved due to precision loss.'\n",
      "    nfev: 920\n",
      "    nhev: 0\n",
      "     nit: 117\n",
      "    njev: 1340\n",
      "  status: 2\n",
      " success: False\n",
      "       x: array([  1.37775928e+151,   2.88972862e+151,   3.80352213e+151,\n",
      "        -6.40713255e+150,  -6.94124167e+150,   3.34320534e+151,\n",
      "         1.37775928e+151,   2.88972862e+151,   3.80352213e+151,\n",
      "        -6.40713255e+150,  -6.94124167e+150,   3.34320534e+151])\n"
     ]
    }
   ],
   "source": [
    "print \"\\nUnconstrained:\"\n",
    "print res_uncons"
   ]
  }
 ],
 "metadata": {
  "kernelspec": {
   "display_name": "Python 2",
   "language": "python",
   "name": "python2"
  },
  "language_info": {
   "codemirror_mode": {
    "name": "ipython",
    "version": 2
   },
   "file_extension": ".py",
   "mimetype": "text/x-python",
   "name": "python",
   "nbconvert_exporter": "python",
   "pygments_lexer": "ipython2",
   "version": "2.7.12"
  }
 },
 "nbformat": 4,
 "nbformat_minor": 0
}
